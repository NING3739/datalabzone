{
  "cells": [
    {
      "cell_type": "raw",
      "metadata": {},
      "source": [
        "---\n",
        "title: \"Math Formulas in R Markdown: A Guide\"\n",
        "date: \"2023-02-07\"\n",
        "author: NING LI\n",
        "categories: [Markdown, LaTex]\n",
        "image: \"https://images.unsplash.com/photo-1509228468518-180dd4864904?ixlib=rb-4.0.3&ixid=M3wxMjA3fDB8MHxzZWFyY2h8OHx8TWF0aCUyMEZvcm11bHNhfGVufDB8fDB8fHww&auto=format&fit=crop&w=500&q=60\"\n",
        "description: \"An accessible guide to using LaTeX for writing math formulas in R Markdown.\"\n",
        "---"
      ],
      "id": "f71df2f3"
    },
    {
      "cell_type": "markdown",
      "metadata": {},
      "source": [
        "R Markdown is a powerful tool that combines text, R code, and results in the same document, and LaTex is a typesetting system commonly used in academia for its mathematical notation capabilities. When you bring these two together, you get a seamless workflow for scientific writing. This guide will walk you through how to write math formulas in R Markdown using LaTex.\n",
        "\n",
        "# Inline and Displayed Math\n",
        "\n",
        "There are two ways you can write math in R Markdown:inline and displayed.\n",
        "\n",
        "## Inline Math\n",
        "\n",
        "Inline math is when you want to Include a mathematical symbol or a short formula within a sentence. To write inline math, you can enclose your LaTex code with dollar signs ('`$`').\n",
        "\n",
        "For instance, writing '`$a^2 + b^2 = b^2$`' in your R Markdown file will render as $a^2 + b^2 = c^2$ in your output document.\n",
        "\n",
        "## Displayed Math\n",
        "\n",
        "Displayed math is when you want to display a standalone equation. This is typically done for long formulas or when you want to draw attention to the equation. To write displayed math, you can enclose your LaTex code with double dollar signs('`$$`').\n",
        "\n",
        "For instance, writing\n",
        "\n",
        "```{code}\n",
        "$$\n",
        "a^2 = b^2 + c^2 \\\\\n",
        "a = 5, b = 4, c = 3\n",
        "$$\n",
        "```\n",
        "\n",
        "in your R Markdown file will render as:\n",
        "\n",
        "$$\n",
        "a^2 = b^2 + c^2 \\\\\n",
        "a = 5, b = 4, c = 3\n",
        "$$\n",
        "in your output document."
      ],
      "id": "28443a15"
    }
  ],
  "metadata": {
    "kernelspec": {
      "display_name": "Python 3",
      "language": "python",
      "name": "python3"
    }
  },
  "nbformat": 4,
  "nbformat_minor": 5
}